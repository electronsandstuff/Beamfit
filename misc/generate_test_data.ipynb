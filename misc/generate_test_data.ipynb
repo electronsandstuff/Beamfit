{
 "cells": [
  {
   "cell_type": "code",
   "execution_count": 11,
   "metadata": {
    "collapsed": true
   },
   "outputs": [],
   "source": [
    "import pickle\n",
    "import beamfit"
   ]
  },
  {
   "cell_type": "code",
   "execution_count": 6,
   "outputs": [],
   "source": [
    "with open(\"/home/chris/beamfit/beamfit/tests/test_data.pickle\", \"rb\") as f:\n",
    "    d = pickle.load(f)"
   ],
   "metadata": {
    "collapsed": false,
    "pycharm": {
     "name": "#%%\n"
    }
   }
  },
  {
   "cell_type": "code",
   "execution_count": 13,
   "outputs": [],
   "source": [
    "# Compute snapshot for mu and sigma functions\n",
    "ms = d[\"mu_sigma\"]\n",
    "ms[\"mu\"], ms[\"sigma\"] = beamfit.get_mu_sigma(ms['h'], ms['pixel_size'])\n",
    "ms[\"mu_std\"], ms[\"sigma_std\"] = beamfit.get_mu_sigma_std(ms['h'], ms['C'], ms['pixel_size'], ms['pixel_size_std'])\n",
    "d[\"mu_sigma\"] = ms"
   ],
   "metadata": {
    "collapsed": false,
    "pycharm": {
     "name": "#%%\n"
    }
   }
  },
  {
   "cell_type": "code",
   "execution_count": 14,
   "outputs": [],
   "source": [
    "with open(\"/home/chris/beamfit/beamfit/tests/test_data.pickle\", \"wb\") as f:\n",
    "    pickle.dump(d, f)"
   ],
   "metadata": {
    "collapsed": false,
    "pycharm": {
     "name": "#%%\n"
    }
   }
  },
  {
   "cell_type": "code",
   "execution_count": null,
   "outputs": [],
   "source": [],
   "metadata": {
    "collapsed": false,
    "pycharm": {
     "name": "#%%\n"
    }
   }
  }
 ],
 "metadata": {
  "kernelspec": {
   "display_name": "Python 3",
   "language": "python",
   "name": "python3"
  },
  "language_info": {
   "codemirror_mode": {
    "name": "ipython",
    "version": 2
   },
   "file_extension": ".py",
   "mimetype": "text/x-python",
   "name": "python",
   "nbconvert_exporter": "python",
   "pygments_lexer": "ipython2",
   "version": "2.7.6"
  }
 },
 "nbformat": 4,
 "nbformat_minor": 0
}